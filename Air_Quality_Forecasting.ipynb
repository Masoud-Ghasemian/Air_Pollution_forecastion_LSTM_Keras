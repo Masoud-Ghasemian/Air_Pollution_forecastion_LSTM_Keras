{
 "cells": [
  {
   "cell_type": "code",
   "execution_count": 2,
   "metadata": {
    "colab": {},
    "colab_type": "code",
    "id": "pPVrNalNgemr"
   },
   "outputs": [],
   "source": [
    "import numpy as np\n",
    "import pandas as pd\n",
    "import matplotlib.pyplot as plt\n",
    "from keras.models import Sequential\n",
    "from keras.layers import LSTM\n",
    "from keras.layers import Dense\n",
    "from keras.layers import Dropout  # to avoid overfitting "
   ]
  },
  {
   "cell_type": "code",
   "execution_count": 3,
   "metadata": {
    "colab": {},
    "colab_type": "code",
    "id": "RB0cRGiJjDTs"
   },
   "outputs": [],
   "source": [
    "data=pd.read_csv('Air_Quality_Forecasting.csv')"
   ]
  },
  {
   "cell_type": "code",
   "execution_count": 4,
   "metadata": {
    "colab": {
     "base_uri": "https://localhost:8080/",
     "height": 35
    },
    "colab_type": "code",
    "executionInfo": {
     "elapsed": 637,
     "status": "ok",
     "timestamp": 1564180303502,
     "user": {
      "displayName": "Masoud Ghasemian",
      "photoUrl": "https://lh6.googleusercontent.com/-Vq2rXpeQaqA/AAAAAAAAAAI/AAAAAAAAAHI/chq_U4Yfj1U/s64/photo.jpg",
      "userId": "06107233778194983151"
     },
     "user_tz": 420
    },
    "id": "69-oiJhAhfqS",
    "outputId": "a5558a36-a88c-43db-a29f-0cf58d0a0ed1"
   },
   "outputs": [
    {
     "data": {
      "text/plain": [
       "(8886, 6)"
      ]
     },
     "execution_count": 4,
     "metadata": {},
     "output_type": "execute_result"
    }
   ],
   "source": [
    "data.shape"
   ]
  },
  {
   "cell_type": "code",
   "execution_count": 5,
   "metadata": {
    "colab": {
     "base_uri": "https://localhost:8080/",
     "height": 202
    },
    "colab_type": "code",
    "executionInfo": {
     "elapsed": 490,
     "status": "ok",
     "timestamp": 1564180304555,
     "user": {
      "displayName": "Masoud Ghasemian",
      "photoUrl": "https://lh6.googleusercontent.com/-Vq2rXpeQaqA/AAAAAAAAAAI/AAAAAAAAAHI/chq_U4Yfj1U/s64/photo.jpg",
      "userId": "06107233778194983151"
     },
     "user_tz": 420
    },
    "id": "QIXGz0_7jPXY",
    "outputId": "09466c4b-7864-43fb-f224-c77db7129410"
   },
   "outputs": [
    {
     "data": {
      "text/html": [
       "<div>\n",
       "<style scoped>\n",
       "    .dataframe tbody tr th:only-of-type {\n",
       "        vertical-align: middle;\n",
       "    }\n",
       "\n",
       "    .dataframe tbody tr th {\n",
       "        vertical-align: top;\n",
       "    }\n",
       "\n",
       "    .dataframe thead th {\n",
       "        text-align: right;\n",
       "    }\n",
       "</style>\n",
       "<table border=\"1\" class=\"dataframe\">\n",
       "  <thead>\n",
       "    <tr style=\"text-align: right;\">\n",
       "      <th></th>\n",
       "      <th>utc_time</th>\n",
       "      <th>PM2.5</th>\n",
       "      <th>NO2</th>\n",
       "      <th>CO</th>\n",
       "      <th>O3</th>\n",
       "      <th>SO2</th>\n",
       "    </tr>\n",
       "  </thead>\n",
       "  <tbody>\n",
       "    <tr>\n",
       "      <th>0</th>\n",
       "      <td>1/1/2017 14:00</td>\n",
       "      <td>453.0</td>\n",
       "      <td>156.0</td>\n",
       "      <td>7.2</td>\n",
       "      <td>3.0</td>\n",
       "      <td>9.0</td>\n",
       "    </tr>\n",
       "    <tr>\n",
       "      <th>1</th>\n",
       "      <td>1/1/2017 15:00</td>\n",
       "      <td>417.0</td>\n",
       "      <td>143.0</td>\n",
       "      <td>6.8</td>\n",
       "      <td>2.0</td>\n",
       "      <td>8.0</td>\n",
       "    </tr>\n",
       "    <tr>\n",
       "      <th>2</th>\n",
       "      <td>1/1/2017 16:00</td>\n",
       "      <td>395.0</td>\n",
       "      <td>141.0</td>\n",
       "      <td>6.9</td>\n",
       "      <td>3.0</td>\n",
       "      <td>8.0</td>\n",
       "    </tr>\n",
       "    <tr>\n",
       "      <th>3</th>\n",
       "      <td>1/1/2017 17:00</td>\n",
       "      <td>420.0</td>\n",
       "      <td>139.0</td>\n",
       "      <td>7.4</td>\n",
       "      <td>3.0</td>\n",
       "      <td>9.0</td>\n",
       "    </tr>\n",
       "    <tr>\n",
       "      <th>4</th>\n",
       "      <td>1/1/2017 18:00</td>\n",
       "      <td>453.0</td>\n",
       "      <td>157.0</td>\n",
       "      <td>7.6</td>\n",
       "      <td>4.0</td>\n",
       "      <td>9.0</td>\n",
       "    </tr>\n",
       "  </tbody>\n",
       "</table>\n",
       "</div>"
      ],
      "text/plain": [
       "         utc_time  PM2.5    NO2   CO   O3  SO2\n",
       "0  1/1/2017 14:00  453.0  156.0  7.2  3.0  9.0\n",
       "1  1/1/2017 15:00  417.0  143.0  6.8  2.0  8.0\n",
       "2  1/1/2017 16:00  395.0  141.0  6.9  3.0  8.0\n",
       "3  1/1/2017 17:00  420.0  139.0  7.4  3.0  9.0\n",
       "4  1/1/2017 18:00  453.0  157.0  7.6  4.0  9.0"
      ]
     },
     "execution_count": 5,
     "metadata": {},
     "output_type": "execute_result"
    }
   ],
   "source": [
    "data.head()"
   ]
  },
  {
   "cell_type": "code",
   "execution_count": 6,
   "metadata": {
    "colab": {
     "base_uri": "https://localhost:8080/",
     "height": 139
    },
    "colab_type": "code",
    "executionInfo": {
     "elapsed": 497,
     "status": "ok",
     "timestamp": 1564180305813,
     "user": {
      "displayName": "Masoud Ghasemian",
      "photoUrl": "https://lh6.googleusercontent.com/-Vq2rXpeQaqA/AAAAAAAAAAI/AAAAAAAAAHI/chq_U4Yfj1U/s64/photo.jpg",
      "userId": "06107233778194983151"
     },
     "user_tz": 420
    },
    "id": "E_VA34rAjRFv",
    "outputId": "3a5551bf-b2ac-4c3d-aebd-a5c1d389c0c4"
   },
   "outputs": [
    {
     "data": {
      "text/plain": [
       "utc_time      0\n",
       "PM2.5       187\n",
       "NO2         162\n",
       "CO          878\n",
       "O3          370\n",
       "SO2         170\n",
       "dtype: int64"
      ]
     },
     "execution_count": 6,
     "metadata": {},
     "output_type": "execute_result"
    }
   ],
   "source": [
    "data.isnull().sum()"
   ]
  },
  {
   "cell_type": "code",
   "execution_count": 7,
   "metadata": {
    "colab": {},
    "colab_type": "code",
    "id": "VRa2glmMjcp6"
   },
   "outputs": [],
   "source": [
    "#filling the missing values using forward filling method\n",
    "data=data.fillna(method='ffill')"
   ]
  },
  {
   "cell_type": "code",
   "execution_count": 8,
   "metadata": {
    "colab": {
     "base_uri": "https://localhost:8080/",
     "height": 139
    },
    "colab_type": "code",
    "executionInfo": {
     "elapsed": 332,
     "status": "ok",
     "timestamp": 1564180308107,
     "user": {
      "displayName": "Masoud Ghasemian",
      "photoUrl": "https://lh6.googleusercontent.com/-Vq2rXpeQaqA/AAAAAAAAAAI/AAAAAAAAAHI/chq_U4Yfj1U/s64/photo.jpg",
      "userId": "06107233778194983151"
     },
     "user_tz": 420
    },
    "id": "xXOAHeAMjf3S",
    "outputId": "380db5ca-f14a-48d2-99d9-d4d5c139de71"
   },
   "outputs": [
    {
     "data": {
      "text/plain": [
       "utc_time    0\n",
       "PM2.5       0\n",
       "NO2         0\n",
       "CO          0\n",
       "O3          0\n",
       "SO2         0\n",
       "dtype: int64"
      ]
     },
     "execution_count": 8,
     "metadata": {},
     "output_type": "execute_result"
    }
   ],
   "source": [
    "data.isnull().sum()"
   ]
  },
  {
   "cell_type": "code",
   "execution_count": 31,
   "metadata": {
    "colab": {},
    "colab_type": "code",
    "id": "ne_pL8qdjiu1"
   },
   "outputs": [],
   "source": [
    "# Converting DataFrame to array. Because Keras only accept the numpy array- using Values\n",
    "# Just considering PM2.5 at this point\n",
    "#using last 48 hours to test the model\n",
    "train=data.iloc[:-48,1:2].values\n",
    "observation=data.iloc[-48:,1:2].values"
   ]
  },
  {
   "cell_type": "code",
   "execution_count": 10,
   "metadata": {
    "colab": {},
    "colab_type": "code",
    "id": "nfDlcD00jlp2"
   },
   "outputs": [],
   "source": [
    "#Feature Scaling using Normalisation method (x-min(x))/(max(x)-min(x))\n",
    "#It is recommended to use Normalisation instead of Standardisation in case of RNN and output Softmax activation  \n",
    "from sklearn.preprocessing import MinMaxScaler\n",
    "sc = MinMaxScaler(feature_range=(0,1)) #the new range of data will be (0,1) which is obvious!\n",
    "train_scaled=sc.fit_transform(train)"
   ]
  },
  {
   "cell_type": "code",
   "execution_count": 11,
   "metadata": {
    "colab": {},
    "colab_type": "code",
    "id": "PvV8F69PjoPR"
   },
   "outputs": [],
   "source": [
    "#Converting data suitable for RNN - based on (6 days) 6*24=144 time steps and one output\n",
    "# Try different number of time steps!!!!!\n",
    "X_train = []   # initilazing as empty list\n",
    "y_train = []\n",
    "for i in range(144,len(train)):   # Loop starts at index 144 because we have 144 previous time steps\n",
    "    X_train.append(train_scaled[i-144:i,0])\n",
    "    y_train.append(train_scaled[i,0])\n",
    "X_train , y_train = np.array(X_train) , np.array(y_train)  # converting list to numpy array\n"
   ]
  },
  {
   "cell_type": "code",
   "execution_count": 12,
   "metadata": {
    "colab": {},
    "colab_type": "code",
    "id": "DB3y4EmHjspk"
   },
   "outputs": [],
   "source": [
    "# reshaping the input appropriate for Keras ... 3D tensor with shape (batch_size, timesteps, input_dim).\n",
    "X_train=np.reshape(X_train, (X_train.shape[0], X_train.shape[1], 1))"
   ]
  },
  {
   "cell_type": "code",
   "execution_count": 13,
   "metadata": {
    "colab": {
     "base_uri": "https://localhost:8080/",
     "height": 35
    },
    "colab_type": "code",
    "executionInfo": {
     "elapsed": 433,
     "status": "ok",
     "timestamp": 1564180316058,
     "user": {
      "displayName": "Masoud Ghasemian",
      "photoUrl": "https://lh6.googleusercontent.com/-Vq2rXpeQaqA/AAAAAAAAAAI/AAAAAAAAAHI/chq_U4Yfj1U/s64/photo.jpg",
      "userId": "06107233778194983151"
     },
     "user_tz": 420
    },
    "id": "pWDiK2NXSr3a",
    "outputId": "78c79f32-704a-4616-8f8a-fd16a4821436"
   },
   "outputs": [
    {
     "data": {
      "text/plain": [
       "(8694, 144, 1)"
      ]
     },
     "execution_count": 13,
     "metadata": {},
     "output_type": "execute_result"
    }
   ],
   "source": [
    "X_train.shape"
   ]
  },
  {
   "cell_type": "code",
   "execution_count": 14,
   "metadata": {
    "colab": {},
    "colab_type": "code",
    "id": "Bz0tNrx1jvy4"
   },
   "outputs": [
    {
     "name": "stdout",
     "output_type": "stream",
     "text": [
      "WARNING:tensorflow:From C:\\Users\\masou\\Anaconda3\\lib\\site-packages\\tensorflow\\python\\framework\\op_def_library.py:263: colocate_with (from tensorflow.python.framework.ops) is deprecated and will be removed in a future version.\n",
      "Instructions for updating:\n",
      "Colocations handled automatically by placer.\n",
      "WARNING:tensorflow:From C:\\Users\\masou\\Anaconda3\\lib\\site-packages\\keras\\backend\\tensorflow_backend.py:3445: calling dropout (from tensorflow.python.ops.nn_ops) with keep_prob is deprecated and will be removed in a future version.\n",
      "Instructions for updating:\n",
      "Please use `rate` instead of `keep_prob`. Rate should be set to `rate = 1 - keep_prob`.\n"
     ]
    }
   ],
   "source": [
    "# Initializing RNN model\n",
    "regressor = Sequential()\n",
    "# Adding the first LSTM layer and some dropout regularizations\n",
    "regressor.add(LSTM(units=50, return_sequences=True, input_shape=(X_train.shape[1], 1) )) # 50 neuron , we have LSTM layer after this one, so return_sequences=True\n",
    "regressor.add(Dropout(0.2))\n",
    "# Adding the second LSTM layer and some dropout regularizations\n",
    "regressor.add(LSTM(units=50, return_sequences=True))\n",
    "regressor.add(Dropout(0.2))\n",
    "\n",
    "# Adding the third LSTM layer and some dropout regularizations\n",
    "regressor.add(LSTM(units=50, return_sequences=True ))\n",
    "regressor.add(Dropout(0.2))\n",
    "\n",
    "# Adding the fourth LSTM layer and some dropout regularizations\n",
    "regressor.add(LSTM(units=50 ))\n",
    "regressor.add(Dropout(0.2))\n",
    "#Adding the output layer\n",
    "regressor.add(Dense(units=1))"
   ]
  },
  {
   "cell_type": "code",
   "execution_count": 15,
   "metadata": {
    "colab": {},
    "colab_type": "code",
    "id": "18rl1V1XkDHQ"
   },
   "outputs": [],
   "source": [
    "# Compiling the RNN\n",
    "regressor.compile(optimizer = 'adam', loss = 'mean_squared_error')"
   ]
  },
  {
   "cell_type": "code",
   "execution_count": 16,
   "metadata": {
    "colab": {
     "base_uri": "https://localhost:8080/",
     "height": 1000
    },
    "colab_type": "code",
    "executionInfo": {
     "elapsed": 3609687,
     "status": "error",
     "timestamp": 1564018719056,
     "user": {
      "displayName": "Masoud Ghasemian",
      "photoUrl": "https://lh6.googleusercontent.com/-Vq2rXpeQaqA/AAAAAAAAAAI/AAAAAAAAAHI/chq_U4Yfj1U/s64/photo.jpg",
      "userId": "06107233778194983151"
     },
     "user_tz": 420
    },
    "id": "HeurKp_RkGHh",
    "outputId": "9601e818-3dba-4d23-9cd4-4fe1c05f5be4"
   },
   "outputs": [
    {
     "name": "stdout",
     "output_type": "stream",
     "text": [
      "WARNING:tensorflow:From C:\\Users\\masou\\Anaconda3\\lib\\site-packages\\tensorflow\\python\\ops\\math_ops.py:3066: to_int32 (from tensorflow.python.ops.math_ops) is deprecated and will be removed in a future version.\n",
      "Instructions for updating:\n",
      "Use tf.cast instead.\n",
      "Epoch 1/20\n",
      "8694/8694 [==============================] - 160s 18ms/step - loss: 0.0029\n",
      "Epoch 2/20\n",
      "8694/8694 [==============================] - 150s 17ms/step - loss: 0.0014\n",
      "Epoch 3/20\n",
      "8694/8694 [==============================] - 153s 18ms/step - loss: 9.3470e-04\n",
      "Epoch 4/20\n",
      "8694/8694 [==============================] - 151s 17ms/step - loss: 7.6537e-04\n",
      "Epoch 5/20\n",
      "8694/8694 [==============================] - 151s 17ms/step - loss: 7.0288e-04\n",
      "Epoch 6/20\n",
      "8694/8694 [==============================] - 151s 17ms/step - loss: 6.9246e-04\n",
      "Epoch 7/20\n",
      "3872/8694 [============>.................] - ETA: 1:23 - loss: 6.0110e-04"
     ]
    },
    {
     "ename": "KeyboardInterrupt",
     "evalue": "",
     "output_type": "error",
     "traceback": [
      "\u001b[1;31m---------------------------------------------------------------------------\u001b[0m",
      "\u001b[1;31mKeyboardInterrupt\u001b[0m                         Traceback (most recent call last)",
      "\u001b[1;32m<ipython-input-16-33358791d200>\u001b[0m in \u001b[0;36m<module>\u001b[1;34m\u001b[0m\n\u001b[0;32m      1\u001b[0m \u001b[1;31m# Fitting the RNN to training data\u001b[0m\u001b[1;33m\u001b[0m\u001b[1;33m\u001b[0m\u001b[1;33m\u001b[0m\u001b[0m\n\u001b[1;32m----> 2\u001b[1;33m \u001b[0mregressor\u001b[0m\u001b[1;33m.\u001b[0m\u001b[0mfit\u001b[0m\u001b[1;33m(\u001b[0m\u001b[0mX_train\u001b[0m\u001b[1;33m,\u001b[0m \u001b[0my_train\u001b[0m\u001b[1;33m,\u001b[0m \u001b[0mepochs\u001b[0m\u001b[1;33m=\u001b[0m\u001b[1;36m20\u001b[0m\u001b[1;33m,\u001b[0m \u001b[0mbatch_size\u001b[0m\u001b[1;33m=\u001b[0m\u001b[1;36m32\u001b[0m\u001b[1;33m)\u001b[0m\u001b[1;33m\u001b[0m\u001b[1;33m\u001b[0m\u001b[0m\n\u001b[0m",
      "\u001b[1;32m~\\Anaconda3\\lib\\site-packages\\keras\\engine\\training.py\u001b[0m in \u001b[0;36mfit\u001b[1;34m(self, x, y, batch_size, epochs, verbose, callbacks, validation_split, validation_data, shuffle, class_weight, sample_weight, initial_epoch, steps_per_epoch, validation_steps, **kwargs)\u001b[0m\n\u001b[0;32m   1037\u001b[0m                                         \u001b[0minitial_epoch\u001b[0m\u001b[1;33m=\u001b[0m\u001b[0minitial_epoch\u001b[0m\u001b[1;33m,\u001b[0m\u001b[1;33m\u001b[0m\u001b[1;33m\u001b[0m\u001b[0m\n\u001b[0;32m   1038\u001b[0m                                         \u001b[0msteps_per_epoch\u001b[0m\u001b[1;33m=\u001b[0m\u001b[0msteps_per_epoch\u001b[0m\u001b[1;33m,\u001b[0m\u001b[1;33m\u001b[0m\u001b[1;33m\u001b[0m\u001b[0m\n\u001b[1;32m-> 1039\u001b[1;33m                                         validation_steps=validation_steps)\n\u001b[0m\u001b[0;32m   1040\u001b[0m \u001b[1;33m\u001b[0m\u001b[0m\n\u001b[0;32m   1041\u001b[0m     def evaluate(self, x=None, y=None,\n",
      "\u001b[1;32m~\\Anaconda3\\lib\\site-packages\\keras\\engine\\training_arrays.py\u001b[0m in \u001b[0;36mfit_loop\u001b[1;34m(model, f, ins, out_labels, batch_size, epochs, verbose, callbacks, val_f, val_ins, shuffle, callback_metrics, initial_epoch, steps_per_epoch, validation_steps)\u001b[0m\n\u001b[0;32m    197\u001b[0m                     \u001b[0mins_batch\u001b[0m\u001b[1;33m[\u001b[0m\u001b[0mi\u001b[0m\u001b[1;33m]\u001b[0m \u001b[1;33m=\u001b[0m \u001b[0mins_batch\u001b[0m\u001b[1;33m[\u001b[0m\u001b[0mi\u001b[0m\u001b[1;33m]\u001b[0m\u001b[1;33m.\u001b[0m\u001b[0mtoarray\u001b[0m\u001b[1;33m(\u001b[0m\u001b[1;33m)\u001b[0m\u001b[1;33m\u001b[0m\u001b[1;33m\u001b[0m\u001b[0m\n\u001b[0;32m    198\u001b[0m \u001b[1;33m\u001b[0m\u001b[0m\n\u001b[1;32m--> 199\u001b[1;33m                 \u001b[0mouts\u001b[0m \u001b[1;33m=\u001b[0m \u001b[0mf\u001b[0m\u001b[1;33m(\u001b[0m\u001b[0mins_batch\u001b[0m\u001b[1;33m)\u001b[0m\u001b[1;33m\u001b[0m\u001b[1;33m\u001b[0m\u001b[0m\n\u001b[0m\u001b[0;32m    200\u001b[0m                 \u001b[0mouts\u001b[0m \u001b[1;33m=\u001b[0m \u001b[0mto_list\u001b[0m\u001b[1;33m(\u001b[0m\u001b[0mouts\u001b[0m\u001b[1;33m)\u001b[0m\u001b[1;33m\u001b[0m\u001b[1;33m\u001b[0m\u001b[0m\n\u001b[0;32m    201\u001b[0m                 \u001b[1;32mfor\u001b[0m \u001b[0ml\u001b[0m\u001b[1;33m,\u001b[0m \u001b[0mo\u001b[0m \u001b[1;32min\u001b[0m \u001b[0mzip\u001b[0m\u001b[1;33m(\u001b[0m\u001b[0mout_labels\u001b[0m\u001b[1;33m,\u001b[0m \u001b[0mouts\u001b[0m\u001b[1;33m)\u001b[0m\u001b[1;33m:\u001b[0m\u001b[1;33m\u001b[0m\u001b[1;33m\u001b[0m\u001b[0m\n",
      "\u001b[1;32m~\\Anaconda3\\lib\\site-packages\\keras\\backend\\tensorflow_backend.py\u001b[0m in \u001b[0;36m__call__\u001b[1;34m(self, inputs)\u001b[0m\n\u001b[0;32m   2713\u001b[0m                 \u001b[1;32mreturn\u001b[0m \u001b[0mself\u001b[0m\u001b[1;33m.\u001b[0m\u001b[0m_legacy_call\u001b[0m\u001b[1;33m(\u001b[0m\u001b[0minputs\u001b[0m\u001b[1;33m)\u001b[0m\u001b[1;33m\u001b[0m\u001b[1;33m\u001b[0m\u001b[0m\n\u001b[0;32m   2714\u001b[0m \u001b[1;33m\u001b[0m\u001b[0m\n\u001b[1;32m-> 2715\u001b[1;33m             \u001b[1;32mreturn\u001b[0m \u001b[0mself\u001b[0m\u001b[1;33m.\u001b[0m\u001b[0m_call\u001b[0m\u001b[1;33m(\u001b[0m\u001b[0minputs\u001b[0m\u001b[1;33m)\u001b[0m\u001b[1;33m\u001b[0m\u001b[1;33m\u001b[0m\u001b[0m\n\u001b[0m\u001b[0;32m   2716\u001b[0m         \u001b[1;32melse\u001b[0m\u001b[1;33m:\u001b[0m\u001b[1;33m\u001b[0m\u001b[1;33m\u001b[0m\u001b[0m\n\u001b[0;32m   2717\u001b[0m             \u001b[1;32mif\u001b[0m \u001b[0mpy_any\u001b[0m\u001b[1;33m(\u001b[0m\u001b[0mis_tensor\u001b[0m\u001b[1;33m(\u001b[0m\u001b[0mx\u001b[0m\u001b[1;33m)\u001b[0m \u001b[1;32mfor\u001b[0m \u001b[0mx\u001b[0m \u001b[1;32min\u001b[0m \u001b[0minputs\u001b[0m\u001b[1;33m)\u001b[0m\u001b[1;33m:\u001b[0m\u001b[1;33m\u001b[0m\u001b[1;33m\u001b[0m\u001b[0m\n",
      "\u001b[1;32m~\\Anaconda3\\lib\\site-packages\\keras\\backend\\tensorflow_backend.py\u001b[0m in \u001b[0;36m_call\u001b[1;34m(self, inputs)\u001b[0m\n\u001b[0;32m   2673\u001b[0m             \u001b[0mfetched\u001b[0m \u001b[1;33m=\u001b[0m \u001b[0mself\u001b[0m\u001b[1;33m.\u001b[0m\u001b[0m_callable_fn\u001b[0m\u001b[1;33m(\u001b[0m\u001b[1;33m*\u001b[0m\u001b[0marray_vals\u001b[0m\u001b[1;33m,\u001b[0m \u001b[0mrun_metadata\u001b[0m\u001b[1;33m=\u001b[0m\u001b[0mself\u001b[0m\u001b[1;33m.\u001b[0m\u001b[0mrun_metadata\u001b[0m\u001b[1;33m)\u001b[0m\u001b[1;33m\u001b[0m\u001b[1;33m\u001b[0m\u001b[0m\n\u001b[0;32m   2674\u001b[0m         \u001b[1;32melse\u001b[0m\u001b[1;33m:\u001b[0m\u001b[1;33m\u001b[0m\u001b[1;33m\u001b[0m\u001b[0m\n\u001b[1;32m-> 2675\u001b[1;33m             \u001b[0mfetched\u001b[0m \u001b[1;33m=\u001b[0m \u001b[0mself\u001b[0m\u001b[1;33m.\u001b[0m\u001b[0m_callable_fn\u001b[0m\u001b[1;33m(\u001b[0m\u001b[1;33m*\u001b[0m\u001b[0marray_vals\u001b[0m\u001b[1;33m)\u001b[0m\u001b[1;33m\u001b[0m\u001b[1;33m\u001b[0m\u001b[0m\n\u001b[0m\u001b[0;32m   2676\u001b[0m         \u001b[1;32mreturn\u001b[0m \u001b[0mfetched\u001b[0m\u001b[1;33m[\u001b[0m\u001b[1;33m:\u001b[0m\u001b[0mlen\u001b[0m\u001b[1;33m(\u001b[0m\u001b[0mself\u001b[0m\u001b[1;33m.\u001b[0m\u001b[0moutputs\u001b[0m\u001b[1;33m)\u001b[0m\u001b[1;33m]\u001b[0m\u001b[1;33m\u001b[0m\u001b[1;33m\u001b[0m\u001b[0m\n\u001b[0;32m   2677\u001b[0m \u001b[1;33m\u001b[0m\u001b[0m\n",
      "\u001b[1;32m~\\Anaconda3\\lib\\site-packages\\tensorflow\\python\\client\\session.py\u001b[0m in \u001b[0;36m__call__\u001b[1;34m(self, *args, **kwargs)\u001b[0m\n\u001b[0;32m   1437\u001b[0m           ret = tf_session.TF_SessionRunCallable(\n\u001b[0;32m   1438\u001b[0m               \u001b[0mself\u001b[0m\u001b[1;33m.\u001b[0m\u001b[0m_session\u001b[0m\u001b[1;33m.\u001b[0m\u001b[0m_session\u001b[0m\u001b[1;33m,\u001b[0m \u001b[0mself\u001b[0m\u001b[1;33m.\u001b[0m\u001b[0m_handle\u001b[0m\u001b[1;33m,\u001b[0m \u001b[0margs\u001b[0m\u001b[1;33m,\u001b[0m \u001b[0mstatus\u001b[0m\u001b[1;33m,\u001b[0m\u001b[1;33m\u001b[0m\u001b[1;33m\u001b[0m\u001b[0m\n\u001b[1;32m-> 1439\u001b[1;33m               run_metadata_ptr)\n\u001b[0m\u001b[0;32m   1440\u001b[0m         \u001b[1;32mif\u001b[0m \u001b[0mrun_metadata\u001b[0m\u001b[1;33m:\u001b[0m\u001b[1;33m\u001b[0m\u001b[1;33m\u001b[0m\u001b[0m\n\u001b[0;32m   1441\u001b[0m           \u001b[0mproto_data\u001b[0m \u001b[1;33m=\u001b[0m \u001b[0mtf_session\u001b[0m\u001b[1;33m.\u001b[0m\u001b[0mTF_GetBuffer\u001b[0m\u001b[1;33m(\u001b[0m\u001b[0mrun_metadata_ptr\u001b[0m\u001b[1;33m)\u001b[0m\u001b[1;33m\u001b[0m\u001b[1;33m\u001b[0m\u001b[0m\n",
      "\u001b[1;31mKeyboardInterrupt\u001b[0m: "
     ]
    }
   ],
   "source": [
    "# Fitting the RNN to training data\n",
    "regressor.fit(X_train, y_train, epochs=20, batch_size=32)"
   ]
  },
  {
   "cell_type": "code",
   "execution_count": 17,
   "metadata": {
    "colab": {},
    "colab_type": "code",
    "id": "4o2tZ5hDkKQt"
   },
   "outputs": [],
   "source": [
    "# Getting the predicted air pollution\n",
    "data_set=data['PM2.5']"
   ]
  },
  {
   "cell_type": "code",
   "execution_count": 71,
   "metadata": {
    "colab": {},
    "colab_type": "code",
    "id": "yOd0p0I1yJG9"
   },
   "outputs": [],
   "source": [
    "inputs=data.iloc[-144-48:,1:2].values"
   ]
  },
  {
   "cell_type": "code",
   "execution_count": 72,
   "metadata": {
    "colab": {
     "base_uri": "https://localhost:8080/",
     "height": 35
    },
    "colab_type": "code",
    "executionInfo": {
     "elapsed": 535,
     "status": "ok",
     "timestamp": 1564021449331,
     "user": {
      "displayName": "Masoud Ghasemian",
      "photoUrl": "https://lh6.googleusercontent.com/-Vq2rXpeQaqA/AAAAAAAAAAI/AAAAAAAAAHI/chq_U4Yfj1U/s64/photo.jpg",
      "userId": "06107233778194983151"
     },
     "user_tz": 420
    },
    "id": "pfm0hqsv4myF",
    "outputId": "572c163f-b133-4c14-b4c5-6ed6e5aee67d"
   },
   "outputs": [
    {
     "data": {
      "text/plain": [
       "(192, 1)"
      ]
     },
     "execution_count": 72,
     "metadata": {},
     "output_type": "execute_result"
    }
   ],
   "source": [
    "inputs.shape"
   ]
  },
  {
   "cell_type": "code",
   "execution_count": 73,
   "metadata": {
    "colab": {},
    "colab_type": "code",
    "id": "a8dJJLAfyMXg"
   },
   "outputs": [],
   "source": [
    "inputs=inputs.reshape((-1,1))"
   ]
  },
  {
   "cell_type": "code",
   "execution_count": 74,
   "metadata": {},
   "outputs": [
    {
     "data": {
      "text/plain": [
       "(192, 1)"
      ]
     },
     "execution_count": 74,
     "metadata": {},
     "output_type": "execute_result"
    }
   ],
   "source": [
    "inputs.shape"
   ]
  },
  {
   "cell_type": "code",
   "execution_count": 75,
   "metadata": {
    "colab": {},
    "colab_type": "code",
    "id": "DOZb5hgFyOV2"
   },
   "outputs": [],
   "source": [
    "inputs=sc.transform(inputs)"
   ]
  },
  {
   "cell_type": "code",
   "execution_count": null,
   "metadata": {},
   "outputs": [],
   "source": [
    "#Converting data suitable for RNN - based on (6 days) 6*24=144 time steps and one output\n",
    "# Try different number of time steps!!!!!\n",
    "X_train = []   # initilazing as empty list\n",
    "y_train = []\n",
    "for i in range(144,len(train)):   # Loop starts at index 144 because we have 144 previous time steps\n",
    "    X_train.append(train_scaled[i-144:i,0])\n",
    "    y_train.append(train_scaled[i,0])\n",
    "X_train , y_train = np.array(X_train) , np.array(y_train)  # converting list to numpy array\n"
   ]
  },
  {
   "cell_type": "code",
   "execution_count": 76,
   "metadata": {
    "colab": {},
    "colab_type": "code",
    "id": "AsYCB3ApyQfL"
   },
   "outputs": [],
   "source": [
    "X_test = []   \n",
    "for i in range(len(inputs)-48,len(inputs)):   # Loop starts at index 144 because we have 144 previous time steps\n",
    "    X_test.append(inputs[i-144:i,0])\n",
    "X_test  = np.array(X_test) \n",
    "X_test=np.reshape(X_test, (X_test.shape[0], X_test.shape[1], 1))"
   ]
  },
  {
   "cell_type": "code",
   "execution_count": 77,
   "metadata": {},
   "outputs": [
    {
     "data": {
      "text/plain": [
       "192"
      ]
     },
     "execution_count": 77,
     "metadata": {},
     "output_type": "execute_result"
    }
   ],
   "source": [
    "len(inputs)"
   ]
  },
  {
   "cell_type": "code",
   "execution_count": 78,
   "metadata": {
    "colab": {
     "base_uri": "https://localhost:8080/",
     "height": 35
    },
    "colab_type": "code",
    "executionInfo": {
     "elapsed": 626,
     "status": "ok",
     "timestamp": 1564021286986,
     "user": {
      "displayName": "Masoud Ghasemian",
      "photoUrl": "https://lh6.googleusercontent.com/-Vq2rXpeQaqA/AAAAAAAAAAI/AAAAAAAAAHI/chq_U4Yfj1U/s64/photo.jpg",
      "userId": "06107233778194983151"
     },
     "user_tz": 420
    },
    "id": "dtP_KPtXySqN",
    "outputId": "7fc06728-e8a1-42b2-9584-4051d33cf4a2"
   },
   "outputs": [
    {
     "data": {
      "text/plain": [
       "(48, 144, 1)"
      ]
     },
     "execution_count": 78,
     "metadata": {},
     "output_type": "execute_result"
    }
   ],
   "source": [
    "X_test.shape"
   ]
  },
  {
   "cell_type": "code",
   "execution_count": 79,
   "metadata": {
    "colab": {},
    "colab_type": "code",
    "id": "ALJGAomSyUka"
   },
   "outputs": [],
   "source": [
    "y_pred=regressor.predict(X_test)\n",
    "y_pred=sc.inverse_transform(y_pred)"
   ]
  },
  {
   "cell_type": "code",
   "execution_count": 80,
   "metadata": {
    "colab": {
     "base_uri": "https://localhost:8080/",
     "height": 35
    },
    "colab_type": "code",
    "executionInfo": {
     "elapsed": 353,
     "status": "ok",
     "timestamp": 1564019955456,
     "user": {
      "displayName": "Masoud Ghasemian",
      "photoUrl": "https://lh6.googleusercontent.com/-Vq2rXpeQaqA/AAAAAAAAAAI/AAAAAAAAAHI/chq_U4Yfj1U/s64/photo.jpg",
      "userId": "06107233778194983151"
     },
     "user_tz": 420
    },
    "id": "SRlk3WHwyhM6",
    "outputId": "c94ce173-0489-4ed5-f1a3-4d594cbe8cf9"
   },
   "outputs": [
    {
     "data": {
      "text/plain": [
       "-0.34713567090904834"
      ]
     },
     "execution_count": 80,
     "metadata": {},
     "output_type": "execute_result"
    }
   ],
   "source": [
    "((observation-y_pred)/observation).sum()/48"
   ]
  },
  {
   "cell_type": "code",
   "execution_count": 81,
   "metadata": {
    "colab": {
     "base_uri": "https://localhost:8080/",
     "height": 513
    },
    "colab_type": "code",
    "executionInfo": {
     "elapsed": 794,
     "status": "ok",
     "timestamp": 1564019708437,
     "user": {
      "displayName": "Masoud Ghasemian",
      "photoUrl": "https://lh6.googleusercontent.com/-Vq2rXpeQaqA/AAAAAAAAAAI/AAAAAAAAAHI/chq_U4Yfj1U/s64/photo.jpg",
      "userId": "06107233778194983151"
     },
     "user_tz": 420
    },
    "id": "FQo_4GxFyuU_",
    "outputId": "e85c34a2-9dea-4af0-8cbe-7c363a612881"
   },
   "outputs": [
    {
     "data": {
      "image/png": "[encoded data removed]",
      "text/plain": [
       "<Figure size 1152x576 with 1 Axes>"
      ]
     },
     "metadata": {
      "needs_background": "light"
     },
     "output_type": "display_data"
    }
   ],
   "source": [
    "plt.figure(figsize=(16,8))\n",
    "plt.plot(observation, color='r', label='Observation')\n",
    "plt.plot(y_pred, color='blue', label='Prediction')\n",
    "plt.xlabel('Time(hour)')\n",
    "plt.ylim(0,30)\n",
    "plt.ylabel('PM2.5 Concentration')\n",
    "plt.title('Air Quality Forecasting')\n",
    "plt.legend()\n",
    "plt.show()"
   ]
  }
 ],
 "metadata": {
  "colab": {
   "collapsed_sections": [],
   "name": "Air_Quality_Forecasting.ipynb",
   "provenance": [],
   "version": "0.3.2"
  },
  "kernelspec": {
   "display_name": "Python 3",
   "language": "python",
   "name": "python3"
  },
  "language_info": {
   "codemirror_mode": {
    "name": "ipython",
    "version": 3
   },
   "file_extension": ".py",
   "mimetype": "text/x-python",
   "name": "python",
   "nbconvert_exporter": "python",
   "pygments_lexer": "ipython3",
   "version": "3.7.3"
  }
 },
 "nbformat": 4,
 "nbformat_minor": 1
}
